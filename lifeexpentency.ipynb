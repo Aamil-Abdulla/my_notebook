{
 "cells": [
  {
   "cell_type": "code",
   "execution_count": null,
   "id": "a122cddc",
   "metadata": {},
   "outputs": [
    {
     "name": "stdout",
     "output_type": "stream",
     "text": [
      "^C\n"
     ]
    },
    {
     "ename": "ModuleNotFoundError",
     "evalue": "No module named 'pycaret'",
     "output_type": "error",
     "traceback": [
      "\u001b[1;31m---------------------------------------------------------------------------\u001b[0m",
      "\u001b[1;31mModuleNotFoundError\u001b[0m                       Traceback (most recent call last)",
      "Cell \u001b[1;32mIn[4], line 2\u001b[0m\n\u001b[0;32m      1\u001b[0m get_ipython()\u001b[38;5;241m.\u001b[39msystem(\u001b[38;5;124m'\u001b[39m\u001b[38;5;124mpip install pycaret\u001b[39m\u001b[38;5;124m'\u001b[39m)\n\u001b[1;32m----> 2\u001b[0m \u001b[38;5;28;01mfrom\u001b[39;00m \u001b[38;5;21;01mpycaret\u001b[39;00m\u001b[38;5;21;01m.\u001b[39;00m\u001b[38;5;21;01mutils\u001b[39;00m \u001b[38;5;28;01mimport\u001b[39;00m version\n\u001b[0;32m      3\u001b[0m version()\n",
      "\u001b[1;31mModuleNotFoundError\u001b[0m: No module named 'pycaret'"
     ]
    },
    {
     "name": "stdout",
     "output_type": "stream",
     "text": [
      "Collecting pycaret\n",
      "  Using cached pycaret-3.3.2-py3-none-any.whl.metadata (17 kB)\n",
      "Requirement already satisfied: ipython>=5.5.0 in c:\\users\\admin\\anaconda3\\lib\\site-packages (from pycaret) (8.20.0)\n",
      "Requirement already satisfied: ipywidgets>=7.6.5 in c:\\users\\admin\\anaconda3\\lib\\site-packages (from pycaret) (7.6.5)\n",
      "Requirement already satisfied: tqdm>=4.62.0 in c:\\users\\admin\\anaconda3\\lib\\site-packages (from pycaret) (4.65.0)\n",
      "Requirement already satisfied: numpy<1.27,>=1.21 in c:\\users\\admin\\anaconda3\\lib\\site-packages (from pycaret) (1.26.4)\n",
      "Requirement already satisfied: pandas<2.2.0 in c:\\users\\admin\\anaconda3\\lib\\site-packages (from pycaret) (2.1.4)\n",
      "Requirement already satisfied: jinja2>=3 in c:\\users\\admin\\anaconda3\\lib\\site-packages (from pycaret) (3.1.3)\n",
      "Requirement already satisfied: scipy<=1.11.4,>=1.6.1 in c:\\users\\admin\\anaconda3\\lib\\site-packages (from pycaret) (1.11.4)\n",
      "Requirement already satisfied: joblib<1.4,>=1.2.0 in c:\\users\\admin\\anaconda3\\lib\\site-packages (from pycaret) (1.2.0)\n",
      "Collecting scikit-learn>1.4.0 (from pycaret)\n",
      "  Using cached scikit_learn-1.7.0-cp311-cp311-win_amd64.whl.metadata (14 kB)\n",
      "Collecting pyod>=1.1.3 (from pycaret)\n",
      "  Using cached pyod-2.0.5-py3-none-any.whl.metadata (46 kB)\n",
      "Collecting imbalanced-learn>=0.12.0 (from pycaret)\n",
      "  Using cached imbalanced_learn-0.13.0-py3-none-any.whl.metadata (8.8 kB)\n",
      "Collecting category-encoders>=2.4.0 (from pycaret)\n",
      "  Using cached category_encoders-2.8.1-py3-none-any.whl.metadata (7.9 kB)\n",
      "Collecting lightgbm>=3.0.0 (from pycaret)\n",
      "  Using cached lightgbm-4.6.0-py3-none-win_amd64.whl.metadata (17 kB)\n",
      "Requirement already satisfied: numba>=0.55.0 in c:\\users\\admin\\anaconda3\\lib\\site-packages (from pycaret) (0.59.0)\n",
      "Requirement already satisfied: requests>=2.27.1 in c:\\users\\admin\\anaconda3\\lib\\site-packages (from pycaret) (2.31.0)\n",
      "Requirement already satisfied: psutil>=5.9.0 in c:\\users\\admin\\anaconda3\\lib\\site-packages (from pycaret) (5.9.0)\n",
      "Requirement already satisfied: markupsafe>=2.0.1 in c:\\users\\admin\\anaconda3\\lib\\site-packages (from pycaret) (2.1.3)\n",
      "Requirement already satisfied: importlib-metadata>=4.12.0 in c:\\users\\admin\\anaconda3\\lib\\site-packages (from pycaret) (7.0.1)\n",
      "Requirement already satisfied: nbformat>=4.2.0 in c:\\users\\admin\\anaconda3\\lib\\site-packages (from pycaret) (5.9.2)\n",
      "Requirement already satisfied: cloudpickle in c:\\users\\admin\\anaconda3\\lib\\site-packages (from pycaret) (2.2.1)\n",
      "Collecting deprecation>=2.1.0 (from pycaret)\n",
      "  Using cached deprecation-2.1.0-py2.py3-none-any.whl.metadata (4.6 kB)\n",
      "Requirement already satisfied: xxhash in c:\\users\\admin\\anaconda3\\lib\\site-packages (from pycaret) (3.5.0)\n",
      "Collecting matplotlib<3.8.0 (from pycaret)\n",
      "  Using cached matplotlib-3.7.5-cp311-cp311-win_amd64.whl.metadata (5.8 kB)\n",
      "Collecting scikit-plot>=0.3.7 (from pycaret)\n",
      "  Using cached scikit_plot-0.3.7-py3-none-any.whl.metadata (7.1 kB)\n",
      "Collecting yellowbrick>=1.4 (from pycaret)\n",
      "  Using cached yellowbrick-1.5-py3-none-any.whl.metadata (7.7 kB)\n",
      "Requirement already satisfied: plotly>=5.14.0 in c:\\users\\admin\\anaconda3\\lib\\site-packages (from pycaret) (5.24.1)\n",
      "Collecting kaleido>=0.2.1 (from pycaret)\n",
      "  Using cached kaleido-1.0.0-py3-none-any.whl.metadata (5.6 kB)\n",
      "Requirement already satisfied: schemdraw==0.15 in c:\\users\\admin\\anaconda3\\lib\\site-packages (from pycaret) (0.15)\n",
      "Collecting plotly-resampler>=0.8.3.1 (from pycaret)\n",
      "  Using cached plotly_resampler-0.10.0-py3-none-any.whl.metadata (13 kB)\n",
      "Requirement already satisfied: statsmodels>=0.12.1 in c:\\users\\admin\\anaconda3\\lib\\site-packages (from pycaret) (0.14.0)\n",
      "Collecting sktime==0.26.0 (from pycaret)\n",
      "  Using cached sktime-0.26.0-py3-none-any.whl.metadata (29 kB)\n",
      "Collecting tbats>=1.1.3 (from pycaret)\n",
      "  Using cached tbats-1.1.3-py3-none-any.whl.metadata (3.8 kB)\n",
      "Collecting pmdarima>=2.0.4 (from pycaret)\n",
      "  Using cached pmdarima-2.0.4-cp311-cp311-win_amd64.whl.metadata (8.0 kB)\n",
      "Requirement already satisfied: packaging in c:\\users\\admin\\anaconda3\\lib\\site-packages (from sktime==0.26.0->pycaret) (23.1)\n",
      "Requirement already satisfied: scikit-base<0.8.0 in c:\\users\\admin\\anaconda3\\lib\\site-packages (from sktime==0.26.0->pycaret) (0.7.8)\n"
     ]
    },
    {
     "name": "stderr",
     "output_type": "stream",
     "text": [
      "ERROR: Exception:\n",
      "Traceback (most recent call last):\n",
      "  File \"C:\\Users\\Admin\\anaconda3\\Lib\\site-packages\\pip\\_internal\\cli\\base_command.py\", line 180, in exc_logging_wrapper\n",
      "    status = run_func(*args)\n",
      "             ^^^^^^^^^^^^^^^\n",
      "  File \"C:\\Users\\Admin\\anaconda3\\Lib\\site-packages\\pip\\_internal\\cli\\req_command.py\", line 245, in wrapper\n",
      "    return func(self, options, args)\n",
      "           ^^^^^^^^^^^^^^^^^^^^^^^^^\n",
      "  File \"C:\\Users\\Admin\\anaconda3\\Lib\\site-packages\\pip\\_internal\\commands\\install.py\", line 377, in run\n",
      "    requirement_set = resolver.resolve(\n",
      "                      ^^^^^^^^^^^^^^^^^\n",
      "  File \"C:\\Users\\Admin\\anaconda3\\Lib\\site-packages\\pip\\_internal\\resolution\\resolvelib\\resolver.py\", line 95, in resolve\n",
      "    result = self._result = resolver.resolve(\n",
      "                            ^^^^^^^^^^^^^^^^^\n",
      "  File \"C:\\Users\\Admin\\anaconda3\\Lib\\site-packages\\pip\\_vendor\\resolvelib\\resolvers.py\", line 546, in resolve\n",
      "    state = resolution.resolve(requirements, max_rounds=max_rounds)\n",
      "            ^^^^^^^^^^^^^^^^^^^^^^^^^^^^^^^^^^^^^^^^^^^^^^^^^^^^^^^\n",
      "  File \"C:\\Users\\Admin\\anaconda3\\Lib\\site-packages\\pip\\_vendor\\resolvelib\\resolvers.py\", line 427, in resolve\n",
      "    failure_causes = self._attempt_to_pin_criterion(name)\n",
      "                     ^^^^^^^^^^^^^^^^^^^^^^^^^^^^^^^^^^^^\n",
      "  File \"C:\\Users\\Admin\\anaconda3\\Lib\\site-packages\\pip\\_vendor\\resolvelib\\resolvers.py\", line 239, in _attempt_to_pin_criterion\n",
      "    criteria = self._get_updated_criteria(candidate)\n",
      "               ^^^^^^^^^^^^^^^^^^^^^^^^^^^^^^^^^^^^^\n",
      "  File \"C:\\Users\\Admin\\anaconda3\\Lib\\site-packages\\pip\\_vendor\\resolvelib\\resolvers.py\", line 230, in _get_updated_criteria\n",
      "    self._add_to_criteria(criteria, requirement, parent=candidate)\n",
      "  File \"C:\\Users\\Admin\\anaconda3\\Lib\\site-packages\\pip\\_vendor\\resolvelib\\resolvers.py\", line 148, in _add_to_criteria\n",
      "    matches = self._p.find_matches(\n",
      "              ^^^^^^^^^^^^^^^^^^^^^\n",
      "  File \"C:\\Users\\Admin\\anaconda3\\Lib\\site-packages\\pip\\_internal\\resolution\\resolvelib\\provider.py\", line 231, in find_matches\n",
      "    return self._factory.find_candidates(\n",
      "           ^^^^^^^^^^^^^^^^^^^^^^^^^^^^^^\n",
      "  File \"C:\\Users\\Admin\\anaconda3\\Lib\\site-packages\\pip\\_internal\\resolution\\resolvelib\\factory.py\", line 434, in find_candidates\n",
      "    return self._iter_found_candidates(\n",
      "           ^^^^^^^^^^^^^^^^^^^^^^^^^^^^\n",
      "  File \"C:\\Users\\Admin\\anaconda3\\Lib\\site-packages\\pip\\_internal\\resolution\\resolvelib\\factory.py\", line 325, in _iter_found_candidates\n",
      "    _get_installed_candidate(),\n",
      "    ^^^^^^^^^^^^^^^^^^^^^^^^^^\n",
      "  File \"C:\\Users\\Admin\\anaconda3\\Lib\\site-packages\\pip\\_internal\\resolution\\resolvelib\\factory.py\", line 271, in _get_installed_candidate\n",
      "    if not specifier.contains(installed_dist.version, prereleases=True):\n",
      "                              ^^^^^^^^^^^^^^^^^^^^^^\n",
      "  File \"C:\\Users\\Admin\\anaconda3\\Lib\\site-packages\\pip\\_internal\\metadata\\importlib\\_dists.py\", line 177, in version\n",
      "    return parse_version(self._dist.version)\n",
      "           ^^^^^^^^^^^^^^^^^^^^^^^^^^^^^^^^^\n",
      "  File \"C:\\Users\\Admin\\anaconda3\\Lib\\site-packages\\pip\\_vendor\\packaging\\version.py\", line 49, in parse\n",
      "    return Version(version)\n",
      "           ^^^^^^^^^^^^^^^^\n",
      "  File \"C:\\Users\\Admin\\anaconda3\\Lib\\site-packages\\pip\\_vendor\\packaging\\version.py\", line 264, in __init__\n",
      "    match = self._regex.search(version)\n",
      "            ^^^^^^^^^^^^^^^^^^^^^^^^^^^\n",
      "TypeError: expected string or bytes-like object, got 'NoneType'\n"
     ]
    }
   ],
   "source": [
    "\n"
   ]
  },
  {
   "cell_type": "code",
   "execution_count": null,
   "id": "07d54bdc",
   "metadata": {},
   "outputs": [],
   "source": []
  }
 ],
 "metadata": {
  "kernelspec": {
   "display_name": "base",
   "language": "python",
   "name": "python3"
  },
  "language_info": {
   "codemirror_mode": {
    "name": "ipython",
    "version": 3
   },
   "file_extension": ".py",
   "mimetype": "text/x-python",
   "name": "python",
   "nbconvert_exporter": "python",
   "pygments_lexer": "ipython3",
   "version": "3.11.7"
  }
 },
 "nbformat": 4,
 "nbformat_minor": 5
}
